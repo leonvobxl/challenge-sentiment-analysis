{
 "cells": [
  {
   "cell_type": "code",
   "execution_count": null,
   "id": "8b350ec9",
   "metadata": {},
   "outputs": [],
   "source": [
    "#!pip install nltk\n",
    "!pip install spacy"
   ]
  },
  {
   "cell_type": "code",
   "execution_count": null,
   "id": "39701b7d",
   "metadata": {},
   "outputs": [],
   "source": [
    "import nltk\n",
    "nltk.download('punkt')\n",
    "nltk.download('wordnet')\n",
    "from nltk import sent_tokenize, word_tokenize\n",
    "from nltk.stem.snowball import SnowballStemmer\n",
    "from nltk.stem.wordnet import WordNetLemmatizer\n",
    "from nltk.corpus import stopwords\n",
    "import pandas as pd\n",
    "import numpy as np\n",
    "import re  \n",
    "import spacy\n",
    "nlp = spacy.load('en_core_web_lg')"
   ]
  },
  {
   "cell_type": "code",
   "execution_count": null,
   "id": "3727fc2c",
   "metadata": {},
   "outputs": [],
   "source": [
    "print(spacy.__version__) "
   ]
  },
  {
   "cell_type": "code",
   "execution_count": null,
   "id": "94366dfc",
   "metadata": {},
   "outputs": [],
   "source": [
    "nlp = spacy.load(\"en_core_web_lg\")"
   ]
  },
  {
   "cell_type": "code",
   "execution_count": null,
   "id": "758676d7",
   "metadata": {},
   "outputs": [],
   "source": [
    "!pip install twitterscraper"
   ]
  },
  {
   "cell_type": "code",
   "execution_count": null,
   "id": "63c352ca",
   "metadata": {},
   "outputs": [],
   "source": [
    "!pip install textblob\n"
   ]
  },
  {
   "cell_type": "code",
   "execution_count": null,
   "id": "7d343b22",
   "metadata": {},
   "outputs": [],
   "source": [
    "#!pip uninstall tweepy\n",
    "#pip install git+https://github.com/tweepy/tweepy.git\n",
    "print(tweepy.__version__) "
   ]
  },
  {
   "cell_type": "code",
   "execution_count": 1,
   "id": "8ecab30c",
   "metadata": {
    "scrolled": false
   },
   "outputs": [
    {
     "name": "stdout",
     "output_type": "stream",
     "text": [
      "Number of Positive Tweets about queengambit 1\n",
      "Number of Negative Tweets about queengambit 0\n"
     ]
    },
    {
     "data": {
      "image/png": "[encoded data removed]",
      "text/plain": [
       "<Figure size 432x288 with 1 Axes>"
      ]
     },
     "metadata": {},
     "output_type": "display_data"
    }
   ],
   "source": [
    "import tweepy\n",
    "from textblob import TextBlob\n",
    "import seaborn as sns\n",
    "import matplotlib.pyplot as plt \n",
    "\n",
    "consumer_key = '3OFay9dKMhwmvC8VmNPzssRii'\n",
    "consumer_secret = '2RU7kOQApou51r3nHRb3RRIHmLmfpUE6WplTnt5S6onjqusliq'\n",
    "access_token = '805517251382222848-Ck3xmv7TaCpaWHMARNrmU5HFyq7xKSB'\n",
    "access_token_secret = 'nk520oLJ6X63VP3Zn4g20F2yT2Y7eq9bARiW54kgGUA8P'\n",
    "\n",
    "\n",
    "auth = tweepy.OAuthHandler(consumer_key, consumer_secret)\n",
    "auth.set_access_token(access_token, access_token_secret)\n",
    "\n",
    "api = tweepy.API(auth, wait_on_rate_limit=True, sleep_on_rate_limit=False)\n",
    "\n",
    "\n",
    "\n",
    "import pandas as pd  \n",
    "pd.set_option('display.max_rows', 10000)\n",
    "pd.set_option('display.max_columns', 10000)\n",
    "\n",
    "def get_related_tweets(key_word):\n",
    "\n",
    "    twitter_users = []\n",
    "    tweet_time = []\n",
    "    tweet_string = [] \n",
    "    for tweet in tweepy.Cursor(api.search_tweets,q=key_word, count=1000).items(10000):\n",
    "            if (not tweet.retweeted) and ('RT @' not in tweet.text):\n",
    "                if tweet.lang == \"en\":\n",
    "                    twitter_users.append(tweet.user.name)\n",
    "                    tweet_time.append(tweet.created_at)\n",
    "                    tweet_string.append(tweet.text)\n",
    "                    #print([tweet.user.name,tweet.created_at,tweet.text])\n",
    "    df = pd.DataFrame({'name':twitter_users, 'time': tweet_time, 'tweet': tweet_string})\n",
    "    \n",
    "    return df \n",
    "\n",
    "        \n",
    "def get_sentiment(key_word):\n",
    "    \n",
    "    df = get_related_tweets(key_word)\n",
    "    df['sentiment'] = df['tweet'].apply(lambda tweet: TextBlob(tweet).sentiment.polarity)\n",
    "    df_pos = df[df['sentiment'] > 0.0]\n",
    "    df_neg = df[df['sentiment'] < 0.0]\n",
    "    print(\"Number of Positive Tweets about {}\".format(key_word), len(df_pos))\n",
    "    print(\"Number of Negative Tweets about {}\".format(key_word), len(df_neg))\n",
    "    sns.set()\n",
    "    labels = ['Postive', 'Negative']\n",
    "    heights = [len(df_pos), len(df_neg)]\n",
    "    plt.bar(labels, heights, color = 'navy')\n",
    "    plt.title(key_word)\n",
    "\n",
    "get_sentiment(\"queengambit\")    "
   ]
  },
  {
   "cell_type": "code",
   "execution_count": 2,
   "id": "9d17ac34",
   "metadata": {},
   "outputs": [],
   "source": [
    "# Credentials\n",
    "\n",
    "consumer_key = '3OFay9dKMhwmvC8VmNPzssRii'\n",
    "consumer_secret = '2RU7kOQApou51r3nHRb3RRIHmLmfpUE6WplTnt5S6onjqusliq'\n",
    "access_token = '805517251382222848-Ck3xmv7TaCpaWHMARNrmU5HFyq7xKSB'\n",
    "access_token_secret = 'nk520oLJ6X63VP3Zn4g20F2yT2Y7eq9bARiW54kgGUA8P'\n",
    "\n",
    "auth = tweepy.OAuthHandler(consumer_key, consumer_secret)\n",
    "auth.set_access_token(access_token, access_token_secret)\n",
    "api = tweepy.API(auth,wait_on_rate_limit=True)\n",
    "\n",
    "\n",
    "tweets = []\n",
    "\n",
    "def username_tweets_to_csv(username,count):\n",
    "    try:      \n",
    "        # Creation of query method using parameters\n",
    "        tweets = tweepy.Cursor(api.search_tweets,id=username).items(count)\n",
    "        queengambit\n",
    "        # Pulling information from tweets iterable object\n",
    "        tweets_list = [[tweet.created_at, tweet.id, tweet.text] for tweet in tweets]\n",
    "\n",
    "        # Creation of dataframe from tweets list\n",
    "        # Add or remove columns as you remove tweet information\n",
    "        tweets_df = pd.DataFrame(tweets_list,columns=['Datetime', 'Tweet Id', 'Text'])\n",
    "\n",
    "        # Converting dataframe to CSV \n",
    "        tweets_df.to_csv('{}-tweets.csv'.format(username), sep=',', index = False)\n",
    "\n",
    "    except BaseException as e:\n",
    "          print('failed on_status,',str(e))\n",
    "          time.sleep(3)"
   ]
  },
  {
   "cell_type": "code",
   "execution_count": 4,
   "id": "59916319",
   "metadata": {},
   "outputs": [
    {
     "name": "stdout",
     "output_type": "stream",
     "text": [
      "failed on_status, name 'queengambit' is not defined\n"
     ]
    },
    {
     "ename": "NameError",
     "evalue": "name 'time' is not defined",
     "output_type": "error",
     "traceback": [
      "\u001b[0;31m---------------------------------------------------------------------------\u001b[0m",
      "\u001b[0;31mNameError\u001b[0m                                 Traceback (most recent call last)",
      "\u001b[0;32m/var/folders/nx/48r1p7j10ys5bbndt2lmfpk40000gp/T/ipykernel_86712/3540939021.py\u001b[0m in \u001b[0;36musername_tweets_to_csv\u001b[0;34m(username, count)\u001b[0m\n\u001b[1;32m     18\u001b[0m         \u001b[0mtweets\u001b[0m \u001b[0;34m=\u001b[0m \u001b[0mtweepy\u001b[0m\u001b[0;34m.\u001b[0m\u001b[0mCursor\u001b[0m\u001b[0;34m(\u001b[0m\u001b[0mapi\u001b[0m\u001b[0;34m.\u001b[0m\u001b[0msearch_tweets\u001b[0m\u001b[0;34m,\u001b[0m\u001b[0mid\u001b[0m\u001b[0;34m=\u001b[0m\u001b[0musername\u001b[0m\u001b[0;34m)\u001b[0m\u001b[0;34m.\u001b[0m\u001b[0mitems\u001b[0m\u001b[0;34m(\u001b[0m\u001b[0mcount\u001b[0m\u001b[0;34m)\u001b[0m\u001b[0;34m\u001b[0m\u001b[0;34m\u001b[0m\u001b[0m\n\u001b[0;32m---> 19\u001b[0;31m         \u001b[0mqueengambit\u001b[0m\u001b[0;34m\u001b[0m\u001b[0;34m\u001b[0m\u001b[0m\n\u001b[0m\u001b[1;32m     20\u001b[0m         \u001b[0;31m# Pulling information from tweets iterable object\u001b[0m\u001b[0;34m\u001b[0m\u001b[0;34m\u001b[0m\u001b[0;34m\u001b[0m\u001b[0m\n",
      "\u001b[0;31mNameError\u001b[0m: name 'queengambit' is not defined",
      "\nDuring handling of the above exception, another exception occurred:\n",
      "\u001b[0;31mNameError\u001b[0m                                 Traceback (most recent call last)",
      "\u001b[0;32m/var/folders/nx/48r1p7j10ys5bbndt2lmfpk40000gp/T/ipykernel_86712/1787800226.py\u001b[0m in \u001b[0;36m<module>\u001b[0;34m\u001b[0m\n\u001b[1;32m      5\u001b[0m \u001b[0;34m\u001b[0m\u001b[0m\n\u001b[1;32m      6\u001b[0m \u001b[0;31m# Calling function to turn username's past X amount of tweets into a CSV file\u001b[0m\u001b[0;34m\u001b[0m\u001b[0;34m\u001b[0m\u001b[0;34m\u001b[0m\u001b[0m\n\u001b[0;32m----> 7\u001b[0;31m \u001b[0musername_tweets_to_csv\u001b[0m\u001b[0;34m(\u001b[0m\u001b[0musername\u001b[0m\u001b[0;34m,\u001b[0m \u001b[0mcount\u001b[0m\u001b[0;34m)\u001b[0m\u001b[0;34m\u001b[0m\u001b[0;34m\u001b[0m\u001b[0m\n\u001b[0m",
      "\u001b[0;32m/var/folders/nx/48r1p7j10ys5bbndt2lmfpk40000gp/T/ipykernel_86712/3540939021.py\u001b[0m in \u001b[0;36musername_tweets_to_csv\u001b[0;34m(username, count)\u001b[0m\n\u001b[1;32m     30\u001b[0m     \u001b[0;32mexcept\u001b[0m \u001b[0mBaseException\u001b[0m \u001b[0;32mas\u001b[0m \u001b[0me\u001b[0m\u001b[0;34m:\u001b[0m\u001b[0;34m\u001b[0m\u001b[0;34m\u001b[0m\u001b[0m\n\u001b[1;32m     31\u001b[0m           \u001b[0mprint\u001b[0m\u001b[0;34m(\u001b[0m\u001b[0;34m'failed on_status,'\u001b[0m\u001b[0;34m,\u001b[0m\u001b[0mstr\u001b[0m\u001b[0;34m(\u001b[0m\u001b[0me\u001b[0m\u001b[0;34m)\u001b[0m\u001b[0;34m)\u001b[0m\u001b[0;34m\u001b[0m\u001b[0;34m\u001b[0m\u001b[0m\n\u001b[0;32m---> 32\u001b[0;31m           \u001b[0mtime\u001b[0m\u001b[0;34m.\u001b[0m\u001b[0msleep\u001b[0m\u001b[0;34m(\u001b[0m\u001b[0;36m3\u001b[0m\u001b[0;34m)\u001b[0m\u001b[0;34m\u001b[0m\u001b[0;34m\u001b[0m\u001b[0m\n\u001b[0m",
      "\u001b[0;31mNameError\u001b[0m: name 'time' is not defined"
     ]
    }
   ],
   "source": [
    "# Input username to scrape tweets and name csv file\n",
    "# Max recent tweets pulls x amount of most recent tweets from that user\n",
    "username = 'netflix'\n",
    "count = 150\n",
    "\n",
    "# Calling function to turn username's past X amount of tweets into a CSV file\n",
    "username_tweets_to_csv(username, count)"
   ]
  },
  {
   "cell_type": "code",
   "execution_count": null,
   "id": "f85b173e",
   "metadata": {},
   "outputs": [],
   "source": []
  },
  {
   "cell_type": "code",
   "execution_count": null,
   "id": "a16f46d4",
   "metadata": {},
   "outputs": [],
   "source": [
    "consumer_key = '3OFay9dKMhwmvC8VmNPzssRii'\n",
    "consumer_secret = '2RU7kOQApou51r3nHRb3RRIHmLmfpUE6WplTnt5S6onjqusliq'\n",
    "access_token = '805517251382222848-Ck3xmv7TaCpaWHMARNrmU5HFyq7xKSB'\n",
    "access_token_secret = 'nk520oLJ6X63VP3Zn4g20F2yT2Y7eq9bARiW54kgGUA8P'\n",
    "\n",
    "\n",
    "auth = tweepy.OAuthHandler(consumer_key, consumer_secret)\n",
    "auth.set_access_token(access_token, access_token_secret)\n",
    "api = tweepy.API(auth,wait_on_rate_limit=True)\n",
    "\n",
    "\n",
    "try:\n",
    "    api.verify_credentials()\n",
    "    print(\"Authentication OK\")\n",
    "except:\n",
    "    print(\"Error during authentication\")\n",
    "\n",
    "search_word = \"squidgame\"\n",
    "tweets = api.search_tweets(q=search_word, lang=\"en\", count=10000)\n",
    "\n",
    "users_text = [[tweet.user.screen_name, tweet.text] for tweet in tweets]\n",
    "\n",
    "tweet_text = pd.DataFrame(data=(users_text),\n",
    "                         columns=['user', \"text\"])\n",
    "\n",
    "print(tweet_text.head())"
   ]
  },
  {
   "cell_type": "code",
   "execution_count": null,
   "id": "31626540",
   "metadata": {},
   "outputs": [],
   "source": [
    "!pip install credentials"
   ]
  },
  {
   "cell_type": "code",
   "execution_count": null,
   "id": "c5d18133",
   "metadata": {},
   "outputs": [],
   "source": [
    "import pandas as pd\n",
    "tweets = []\n",
    "\n",
    "def text_query_to_csv(text_query,count):\n",
    "    try:\n",
    "        # Creation of query method using parameters\n",
    "        tweets = tweepy.Cursor(api.search_tweets,q=text_query).items(count)\n",
    "\n",
    "        # Pulling information from tweets iterable object\n",
    "        tweets_list = [[tweet.created_at, tweet.id, tweet.text] for tweet in tweets]\n",
    "\n",
    "        # Creation of dataframe from tweets list\n",
    "        # Add or remove columns as you remove tweet information\n",
    "        tweets_df = pd.DataFrame(tweets_list,columns=['Datetime', 'Tweet Id', 'Text'])\n",
    "\n",
    "        # Converting dataframe to CSV \n",
    "        tweets_df.to_csv('{}-tweets.csv'.format(text_query), sep=',', index = False)\n",
    "\n",
    "    except BaseException as e:\n",
    "        print('failed on_status,',str(e))\n",
    "        time.sleep(3)\n"
   ]
  },
  {
   "cell_type": "code",
   "execution_count": null,
   "id": "9df48189",
   "metadata": {},
   "outputs": [],
   "source": [
    "# Input username to scrape tweets and name csv file\n",
    "# Max recent tweets pulls x amount of most recent tweets from that user\n",
    "text_query = 'queengambit'\n",
    "count = 10000\n",
    "\n",
    "# Calling function to turn username's past X amount of tweets into a CSV file\n",
    "text_query_to_csv(text_query, count)"
   ]
  },
  {
   "cell_type": "code",
   "execution_count": null,
   "id": "ffe82251",
   "metadata": {},
   "outputs": [],
   "source": [
    "import csv\n",
    "\n",
    "# http://www.tweepy.org/\n",
    "import tweepy\n",
    "\n",
    "# Twitter API credentials\n",
    "consumer_key = '3OFay9dKMhwmvC8VmNPzssRii'\n",
    "consumer_secret = '2RU7kOQApou51r3nHRb3RRIHmLmfpUE6WplTnt5S6onjqusliq'\n",
    "access_token = '805517251382222848-Ck3xmv7TaCpaWHMARNrmU5HFyq7xKSB'\n",
    "access_token_secret = 'nk520oLJ6X63VP3Zn4g20F2yT2Y7eq9bARiW54kgGUA8P'\n",
    "\n",
    "\n",
    "# Authentication\n",
    "\n",
    "auth = tweepy.OAuthHandler(consumer_key, consumer_secret)\n",
    "auth.set_access_token(access_token, access_token_secret)\n",
    "api = tweepy.API(auth,wait_on_rate_limit=True)\n",
    "\n",
    "# returns number_of_tweets tweets from username\n",
    "def get_profile_tweets(username, number_of_tweets):\n",
    "    if '@' not in username[0]:\n",
    "        username = '@'+username\n",
    "\n",
    "    # twitter currently allows retrieving max 200 tweets per request\n",
    "    if number_of_tweets > 200:\n",
    "        # fix the following two lines insude the loop\n",
    "        tweets = api.user_timeline(screen_name=username, count=200)\n",
    "        number_of_tweets -= 200\n",
    "        for i in range (number_of_tweets//200):\n",
    "            last_tweet_id = tweets[-1].id\n",
    "            tweets.extend(api.user_timeline(screen_name=username, count=200,\n",
    "                                       max_id=last_tweet_id))\n",
    "        last_tweet_id = tweets[-1].id\n",
    "        tweets.extend(api.user_timeline(screen_name=username, \n",
    "                                        count=number_of_tweets%200, \n",
    "                                        max_id= last_tweet_id))\n",
    "    else:\n",
    "        tweets = api.user_timeline(screen_name=username, count=number_of_tweets)\n",
    "        print(f'Retrieved {number_of_tweets} Tweets from {username}...')\n",
    "        \n",
    "    return tweets\n",
    "      \n",
    "# returns number_of_tweets tweets from username\n",
    "def get_hastag_tweets(hashtag, number_of_tweets):\n",
    "    if '#' not in hashtag[0]:\n",
    "        hashtag = '#' + hashtag \n",
    "    tweets = []\n",
    "    cursor = tweepy.Cursor(api.search_tweets, q=hashtag).items(number_of_tweets)\n",
    "    # append only original tweets. No RT or Response\n",
    "    for tweet in cursor:\n",
    "        if (not tweet.retweeted) and ('RT @' not in tweet.text):\n",
    "            tweets.append(tweet)\n",
    "            #print(tweet.text)\n",
    "    print(f'Retrieved {number_of_tweets} Tweets from {hashtag}...')\n",
    "\n",
    "    return tweets  \n",
    " \n",
    "# prints the tweets to a .txt file\n",
    "def tweets_to_txt(tweets, filename='tweets'):\n",
    "    if '.txt' not in filename:\n",
    "        filename += '.txt'\n",
    "    # write to a new text file from the array of tweets\n",
    "    with open(f'User_{filename}' , 'w+') as f:\n",
    "        for tweet in tweets:\n",
    "            f.write(tweet.text+'\\n')\n",
    "            \n",
    "# print tweets to a .csv file\n",
    "def tweets_to_csv(tweets, filename='tweets'): \n",
    "    if '.csv' not in filename:\n",
    "        filename += '.csv'\n",
    "    username = tweets[-1].user.screen_name\n",
    "    \n",
    "    # create array of tweets: username, tweet id, date/time, text\n",
    "    tweets2csv = [[username, tweet.id_str, tweet.created_at, tweet.text] \n",
    "                            for tweet in tweets]\n",
    "    \n",
    "    #write to a new csv file from the array of tweets\n",
    "    with open(f'User_{filename}' , 'w+') as file:\n",
    "        writer = csv.writer(file, delimiter=',')\n",
    "        writer.writerow([\"User\", \"Tweet ID\", \"Time\", \"Text\"])  # write header\n",
    "        writer.writerows(tweets2csv)\n",
    "\n",
    "# specify a text to be removed from the tweets\n",
    "def clean_tweets(tweets, trash_txt=''):\n",
    "    clean_tweets = []\n",
    "    for tweet in tweets:\n",
    "        if trash_txt in tweet.text:\n",
    "            clean_tweets.append(str(tweet.text).replace(trash_txt, ''))\n",
    "    return clean_tweets\n",
    "\n",
    "\n",
    "\n",
    "#twts = get_hastag_tweets('#SquidGames', 10000)\n",
    "twts = get_hastag_tweets('#theguilty', 1000)\n",
    "tweets_to_csv(twts, 'Netflix_theguilty')\n",
    "\n",
    "my_tweets = get_profile_tweets('netflix', 1000)\n",
    "                                                          \n",
    "tweets_to_txt(my_tweets, 'netflix_theguilty')\n"
   ]
  },
  {
   "cell_type": "code",
   "execution_count": null,
   "id": "dda83365",
   "metadata": {},
   "outputs": [],
   "source": [
    "#TooHottoHandle\n",
    "#theguilty\n",
    "#sweetgirl\n",
    "#maid\n",
    "#thechestnutman"
   ]
  }
 ],
 "metadata": {
  "kernelspec": {
   "display_name": "Python 3.8 (tensorflow)",
   "language": "python",
   "name": "tensorflow"
  },
  "language_info": {
   "codemirror_mode": {
    "name": "ipython",
    "version": 3
   },
   "file_extension": ".py",
   "mimetype": "text/x-python",
   "name": "python",
   "nbconvert_exporter": "python",
   "pygments_lexer": "ipython3",
   "version": "3.8.11"
  }
 },
 "nbformat": 4,
 "nbformat_minor": 5
}
