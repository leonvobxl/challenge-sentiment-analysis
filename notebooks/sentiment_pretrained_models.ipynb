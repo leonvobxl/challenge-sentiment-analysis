{
 "cells": [
  {
   "cell_type": "markdown",
   "id": "213c57a7",
   "metadata": {},
   "source": [
    "## Sentiment Analysis with Pretrained models: Vader, TextBlob"
   ]
  },
  {
   "cell_type": "markdown",
   "id": "8ba5240d",
   "metadata": {},
   "source": [
    "## VADER Sentiment"
   ]
  },
  {
   "cell_type": "code",
   "execution_count": null,
   "id": "e735dcc8",
   "metadata": {},
   "outputs": [],
   "source": [
    "!pip install vaderSentiment\n",
    "import requests\n",
    "from vaderSentiment.vaderSentiment import SentimentIntensityAnalyzer\n",
    "analyser = SentimentIntensityAnalyzer()"
   ]
  },
  {
   "cell_type": "code",
   "execution_count": null,
   "id": "11e9a8e7",
   "metadata": {},
   "outputs": [],
   "source": [
    "def sentiment_analyzer_scores(text):\n",
    "    score = analyser.polarity_scores(text)\n",
    "    lb = score['compound']\n",
    "    if lb >= 0.04:\n",
    "        return 'pos'\n",
    "    elif (lb > -0.04) and (lb < 0.04):\n",
    "        return 'neu'\n",
    "    else:\n",
    "        return 'neg'"
   ]
  },
  {
   "cell_type": "code",
   "execution_count": null,
   "id": "81b4a84c",
   "metadata": {},
   "outputs": [],
   "source": [
    "df_squidgame_csv['sentiment3'] = df_squidgame_csv.tweet.apply(sentiment_analyzer_scores)\n",
    "df_squidgame_csv.head()"
   ]
  },
  {
   "cell_type": "code",
   "execution_count": null,
   "id": "534818f4",
   "metadata": {},
   "outputs": [],
   "source": [
    "#nltk.download('stopwords')\n",
    "from nltk.corpus import stopwords\n",
    "class_count = df_squidgame_csv['sentiment3'].value_counts() # Returned in descending order [4, 0]\n",
    "plt.figure(figsize = (12, 8))\n",
    "plt.xticks([4, 0], ['Positive','Neutral', 'Negative'])\n",
    "plt.xticks([4, 0])\n",
    "plt.bar(x = class_count.keys(), \n",
    "        height = class_count.values, \n",
    "        color = ['g','y', 'r'])\n",
    "plt.xlabel(\"Tweet sentiment\")\n",
    "plt.ylabel(\"Tweet count\")\n",
    "plt.title(\"Count of tweets for each sentiment\")\n",
    "plt.legend()"
   ]
  },
  {
   "cell_type": "markdown",
   "id": "df43f3d6",
   "metadata": {},
   "source": [
    "## TextBlob Sentiment"
   ]
  },
  {
   "cell_type": "code",
   "execution_count": null,
   "id": "b0cde81e",
   "metadata": {},
   "outputs": [],
   "source": [
    "# Fetching the sentiments using Textblob\n",
    "from textblob import TextBlob\n",
    "\n",
    "def fetch_sentiment_using_textblob(text):\n",
    "    analysis = TextBlob(text)\n",
    "    return 'pos' if analysis.sentiment.polarity >= 0 else 'neg'"
   ]
  }
 ],
 "metadata": {
  "kernelspec": {
   "display_name": "Python 3.8 (tensorflow)",
   "language": "python",
   "name": "tensorflow"
  },
  "language_info": {
   "codemirror_mode": {
    "name": "ipython",
    "version": 3
   },
   "file_extension": ".py",
   "mimetype": "text/x-python",
   "name": "python",
   "nbconvert_exporter": "python",
   "pygments_lexer": "ipython3",
   "version": "3.8.11"
  }
 },
 "nbformat": 4,
 "nbformat_minor": 5
}
