{
 "cells": [
  {
   "cell_type": "code",
   "execution_count": 1,
   "id": "97c8172d",
   "metadata": {},
   "outputs": [],
   "source": [
    "import twint\n",
    "from textblob import TextBlob\n",
    "from wordcloud import WordCloud, STOPWORDS\n",
    "import pandas as pd\n",
    "import numpy as np\n",
    "import re\n",
    "import matplotlib.pyplot as plt\n",
    "plt.style.use('fivethirtyeight')\n",
    "\n",
    "import nest_asyncio\n",
    "nest_asyncio.apply()"
   ]
  },
  {
   "cell_type": "code",
   "execution_count": null,
   "id": "f27c1aae",
   "metadata": {
    "scrolled": false
   },
   "outputs": [],
   "source": [
    "# Set up TWINT config\n",
    "c = twint.Config()\n",
    "c.Search = \"#SquidGame\"\n",
    "\n",
    "# Custom output format\n",
    "c.Lang = \"en\"\n",
    "c.Limit = 40000\n",
    "c.Store_csv = True\n",
    "c.Output = \"squidgame_data.csv\"\n",
    "twint.run.Search(c)\n"
   ]
  },
  {
   "cell_type": "code",
   "execution_count": 10,
   "id": "44d0aca2",
   "metadata": {},
   "outputs": [],
   "source": [
    "df_squidgame = pd.read_csv(\"../data/squidgame_data.csv\") \n",
    "df_maid = pd.read_csv(\"../data/Maid_data.csv\") \n",
    "df_netflix = pd.read_csv(\"../data/Netflix_data.csv\") \n",
    "df_theguilty = pd.read_csv(\"../data/TheGuilty_data.csv\") \n",
    "df_midnightmass = pd.read_csv(\"../data/MidnightMass.csv\") \n"
   ]
  },
  {
   "cell_type": "code",
   "execution_count": 20,
   "id": "e982cb49",
   "metadata": {},
   "outputs": [],
   "source": [
    "df_squidgame_en = pd.DataFrame(df_squidgame[df_squidgame.language == 'en'])\n",
    "df_maid_en = pd.DataFrame(df_maid[df_maid.language == 'en'])\n",
    "df_netflix_en = pd.DataFrame(df_netflix[df_netflix.language == 'en'])\n",
    "df_theguilty_en = pd.DataFrame(df_theguilty[df_theguilty.language == 'en'])\n",
    "df_midnightmass_en = pd.DataFrame(df_midnightmass[df_midnightmass.language == 'en'])"
   ]
  },
  {
   "cell_type": "code",
   "execution_count": null,
   "id": "d7c78e92",
   "metadata": {},
   "outputs": [],
   "source": [
    "df_squidgame_en.info()"
   ]
  },
  {
   "cell_type": "code",
   "execution_count": 31,
   "id": "d9eaf66e",
   "metadata": {},
   "outputs": [
    {
     "data": {
      "text/plain": [
       "2021-10-13 20:00:01 CEST    6\n",
       "2021-10-13 20:39:26 CEST    4\n",
       "2021-10-13 19:25:17 CEST    4\n",
       "2021-10-13 19:20:00 CEST    4\n",
       "2021-10-13 20:35:53 CEST    4\n",
       "                           ..\n",
       "2021-10-12 12:37:01 CEST    1\n",
       "2021-10-12 12:37:04 CEST    1\n",
       "2021-10-12 12:37:08 CEST    1\n",
       "2021-10-12 12:37:54 CEST    1\n",
       "2021-10-10 03:59:26 CEST    1\n",
       "Name: created_at, Length: 22401, dtype: int64"
      ]
     },
     "execution_count": 31,
     "metadata": {},
     "output_type": "execute_result"
    }
   ],
   "source": [
    "df_squidgame_en.created_at.value_counts()"
   ]
  },
  {
   "cell_type": "code",
   "execution_count": 32,
   "id": "aba8d635",
   "metadata": {},
   "outputs": [
    {
     "data": {
      "text/plain": [
       "2021-10-11    6438\n",
       "2021-10-13    6065\n",
       "2021-10-12    5961\n",
       "2021-10-10    5492\n",
       "Name: date, dtype: int64"
      ]
     },
     "execution_count": 32,
     "metadata": {},
     "output_type": "execute_result"
    }
   ],
   "source": [
    "df_squidgame_en.date.value_counts()"
   ]
  },
  {
   "cell_type": "code",
   "execution_count": 35,
   "id": "d6d09821",
   "metadata": {},
   "outputs": [],
   "source": [
    "df_squidgame_en = df_squidgame_en[['tweet', 'username','likes_count', 'date']].copy()\n",
    "df_maid_en = df_maid_en[['tweet', 'username','likes_count', 'date']].copy()\n",
    "df_netflix_en = df_netflix_en[['tweet', 'username','likes_count', 'date']].copy()\n",
    "df_theguilty_en = df_theguilty_en[['tweet', 'username','likes_count', 'date']].copy()\n",
    "df_midnightmass_en = df_midnightmass_en[['tweet', 'username','likes_count', 'date']].copy()"
   ]
  },
  {
   "cell_type": "code",
   "execution_count": 37,
   "id": "0b3eb60c",
   "metadata": {},
   "outputs": [],
   "source": [
    "df_squidgame_en = df_squidgame_en.reset_index(drop=True).to_csv('df_squidgame_en.csv',index=False)\n",
    "df_maid_en = df_maid_en.reset_index(drop=True).to_csv('../data/df_maid_en.csv',index=False)\n",
    "df_netflix_en = df_netflix_en.reset_index(drop=True).to_csv('../data/df_netflix_en.csv',index=False)\n",
    "df_theguilty_en = df_theguilty_en.reset_index(drop=True).to_csv('../data/df_theguilty_en.csv',index=False)\n",
    "df_midnightmass_en = df_midnightmass_en.reset_index(drop=True).to_csv('../data/df_midnightmass_en.csv',index=False)"
   ]
  },
  {
   "cell_type": "code",
   "execution_count": null,
   "id": "4eb35f00",
   "metadata": {},
   "outputs": [],
   "source": []
  }
 ],
 "metadata": {
  "kernelspec": {
   "display_name": "Python 3.8 (tensorflow)",
   "language": "python",
   "name": "tensorflow"
  },
  "language_info": {
   "codemirror_mode": {
    "name": "ipython",
    "version": 3
   },
   "file_extension": ".py",
   "mimetype": "text/x-python",
   "name": "python",
   "nbconvert_exporter": "python",
   "pygments_lexer": "ipython3",
   "version": "3.8.11"
  }
 },
 "nbformat": 4,
 "nbformat_minor": 5
}
