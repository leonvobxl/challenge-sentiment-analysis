{
 "cells": [
  {
   "cell_type": "code",
   "execution_count": 1,
   "id": "a5d55838",
   "metadata": {},
   "outputs": [],
   "source": [
    "import twint\n",
    "from textblob import TextBlob\n",
    "from wordcloud import WordCloud, STOPWORDS\n",
    "import pandas as pd\n",
    "import numpy as np\n",
    "import re\n",
    "import matplotlib.pyplot as plt\n",
    "plt.style.use('fivethirtyeight')\n",
    "\n",
    "import nest_asyncio\n",
    "nest_asyncio.apply()"
   ]
  },
  {
   "cell_type": "code",
   "execution_count": null,
   "id": "42365299",
   "metadata": {
    "scrolled": false
   },
   "outputs": [],
   "source": [
    "# Set up TWINT config\n",
    "c = twint.Config()\n",
    "c.Search = \"#SquidGame\"\n",
    "\n",
    "# Custom output format\n",
    "c.Lang = \"en\"\n",
    "c.Limit = 40000\n",
    "c.Store_csv = True\n",
    "c.Output = \"squidgame_data.csv\"\n",
    "twint.run.Search(c)\n"
   ]
  },
  {
   "cell_type": "code",
   "execution_count": 10,
   "id": "d5388691",
   "metadata": {},
   "outputs": [],
   "source": [
    "df_squidgame = pd.read_csv(\"../data/squidgame_data.csv\") \n",
    "df_maid = pd.read_csv(\"../data/Maid_data.csv\") \n",
    "df_netflix = pd.read_csv(\"../data/Netflix_data.csv\") \n",
    "df_theguilty = pd.read_csv(\"../data/TheGuilty_data.csv\") \n",
    "df_midnightmass = pd.read_csv(\"../data/MidnightMass.csv\") \n"
   ]
  },
  {
   "cell_type": "code",
   "execution_count": 20,
   "id": "9945b1e0",
   "metadata": {},
   "outputs": [],
   "source": [
    "df_squidgame_en = pd.DataFrame(df_squidgame[df_squidgame.language == 'en'])\n",
    "df_maid_en = pd.DataFrame(df_maid[df_maid.language == 'en'])\n",
    "df_netflix_en = pd.DataFrame(df_netflix[df_netflix.language == 'en'])\n",
    "df_theguilty_en = pd.DataFrame(df_theguilty[df_theguilty.language == 'en'])\n",
    "df_midnightmass_en = pd.DataFrame(df_midnightmass[df_midnightmass.language == 'en'])"
   ]
  },
  {
   "cell_type": "code",
   "execution_count": 18,
   "id": "09a766ac",
   "metadata": {},
   "outputs": [
    {
     "name": "stdout",
     "output_type": "stream",
     "text": [
      "<class 'pandas.core.frame.DataFrame'>\n",
      "Int64Index: 23956 entries, 0 to 41069\n",
      "Data columns (total 36 columns):\n",
      " #   Column           Non-Null Count  Dtype  \n",
      "---  ------           --------------  -----  \n",
      " 0   id               23956 non-null  int64  \n",
      " 1   conversation_id  23956 non-null  int64  \n",
      " 2   created_at       23956 non-null  object \n",
      " 3   date             23956 non-null  object \n",
      " 4   time             23956 non-null  object \n",
      " 5   timezone         23956 non-null  int64  \n",
      " 6   user_id          23956 non-null  int64  \n",
      " 7   username         23956 non-null  object \n",
      " 8   name             23956 non-null  object \n",
      " 9   place            31 non-null     object \n",
      " 10  tweet            23956 non-null  object \n",
      " 11  language         23956 non-null  object \n",
      " 12  mentions         23956 non-null  object \n",
      " 13  urls             23956 non-null  object \n",
      " 14  photos           23956 non-null  object \n",
      " 15  replies_count    23956 non-null  int64  \n",
      " 16  retweets_count   23956 non-null  int64  \n",
      " 17  likes_count      23956 non-null  int64  \n",
      " 18  hashtags         23956 non-null  object \n",
      " 19  cashtags         23956 non-null  object \n",
      " 20  link             23956 non-null  object \n",
      " 21  retweet          23956 non-null  bool   \n",
      " 22  quote_url        1182 non-null   object \n",
      " 23  video            23956 non-null  int64  \n",
      " 24  thumbnail        10350 non-null  object \n",
      " 25  near             0 non-null      float64\n",
      " 26  geo              0 non-null      float64\n",
      " 27  source           0 non-null      float64\n",
      " 28  user_rt_id       0 non-null      float64\n",
      " 29  user_rt          0 non-null      float64\n",
      " 30  retweet_id       0 non-null      float64\n",
      " 31  reply_to         23956 non-null  object \n",
      " 32  retweet_date     0 non-null      float64\n",
      " 33  translate        0 non-null      float64\n",
      " 34  trans_src        0 non-null      float64\n",
      " 35  trans_dest       0 non-null      float64\n",
      "dtypes: bool(1), float64(10), int64(8), object(17)\n",
      "memory usage: 6.6+ MB\n"
     ]
    }
   ],
   "source": [
    "df_squidgame_en.info()"
   ]
  },
  {
   "cell_type": "code",
   "execution_count": 31,
   "id": "15f800dd",
   "metadata": {},
   "outputs": [
    {
     "data": {
      "text/plain": [
       "2021-10-13 20:00:01 CEST    6\n",
       "2021-10-13 20:39:26 CEST    4\n",
       "2021-10-13 19:25:17 CEST    4\n",
       "2021-10-13 19:20:00 CEST    4\n",
       "2021-10-13 20:35:53 CEST    4\n",
       "                           ..\n",
       "2021-10-12 12:37:01 CEST    1\n",
       "2021-10-12 12:37:04 CEST    1\n",
       "2021-10-12 12:37:08 CEST    1\n",
       "2021-10-12 12:37:54 CEST    1\n",
       "2021-10-10 03:59:26 CEST    1\n",
       "Name: created_at, Length: 22401, dtype: int64"
      ]
     },
     "execution_count": 31,
     "metadata": {},
     "output_type": "execute_result"
    }
   ],
   "source": [
    "df_squidgame_en.created_at.value_counts()"
   ]
  },
  {
   "cell_type": "code",
   "execution_count": 32,
   "id": "d594815d",
   "metadata": {},
   "outputs": [
    {
     "data": {
      "text/plain": [
       "2021-10-11    6438\n",
       "2021-10-13    6065\n",
       "2021-10-12    5961\n",
       "2021-10-10    5492\n",
       "Name: date, dtype: int64"
      ]
     },
     "execution_count": 32,
     "metadata": {},
     "output_type": "execute_result"
    }
   ],
   "source": [
    "df_squidgame_en.date.value_counts()"
   ]
  },
  {
   "cell_type": "code",
   "execution_count": 35,
   "id": "ea20a198",
   "metadata": {},
   "outputs": [],
   "source": [
    "df_squidgame_en = df_squidgame_en[['tweet', 'username','likes_count', 'date']].copy()\n",
    "df_maid_en = df_maid_en[['tweet', 'username','likes_count', 'date']].copy()\n",
    "df_netflix_en = df_netflix_en[['tweet', 'username','likes_count', 'date']].copy()\n",
    "df_theguilty_en = df_theguilty_en[['tweet', 'username','likes_count', 'date']].copy()\n",
    "df_midnightmass_en = df_midnightmass_en[['tweet', 'username','likes_count', 'date']].copy()"
   ]
  },
  {
   "cell_type": "code",
   "execution_count": 37,
   "id": "18b6829f",
   "metadata": {},
   "outputs": [],
   "source": [
    "df_squidgame_en = df_squidgame_en.reset_index(drop=True).to_csv('df_squidgame_en.csv',index=False)\n",
    "df_maid_en = df_maid_en.reset_index(drop=True).to_csv('../data/df_maid_en.csv',index=False)\n",
    "df_netflix_en = df_netflix_en.reset_index(drop=True).to_csv('../data/df_netflix_en.csv',index=False)\n",
    "df_theguilty_en = df_theguilty_en.reset_index(drop=True).to_csv('../data/df_theguilty_en.csv',index=False)\n",
    "df_midnightmass_en = df_midnightmass_en.reset_index(drop=True).to_csv('../data/df_midnightmass_en.csv',index=False)"
   ]
  },
  {
   "cell_type": "code",
   "execution_count": null,
   "id": "07d7b62b",
   "metadata": {},
   "outputs": [],
   "source": []
  }
 ],
 "metadata": {
  "kernelspec": {
   "display_name": "Python 3.8 (tensorflow)",
   "language": "python",
   "name": "tensorflow"
  },
  "language_info": {
   "codemirror_mode": {
    "name": "ipython",
    "version": 3
   },
   "file_extension": ".py",
   "mimetype": "text/x-python",
   "name": "python",
   "nbconvert_exporter": "python",
   "pygments_lexer": "ipython3",
   "version": "3.8.11"
  }
 },
 "nbformat": 4,
 "nbformat_minor": 5
}
